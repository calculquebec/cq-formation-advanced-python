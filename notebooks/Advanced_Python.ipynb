{
 "cells": [
  {
   "cell_type": "markdown",
   "metadata": {},
   "source": [
    "# Python performant ou \"Haute voltige en Python\"\n",
    "\n",
    "![](http://i.imgur.com/N72zhsD.gif)"
   ]
  },
  {
   "cell_type": "markdown",
   "metadata": {},
   "source": [
    "## 1- Environnement logiciel scientifique en Python"
   ]
  },
  {
   "cell_type": "markdown",
   "metadata": {},
   "source": [
    "### Numpy"
   ]
  },
  {
   "cell_type": "code",
   "execution_count": null,
   "metadata": {
    "collapsed": true
   },
   "outputs": [],
   "source": []
  },
  {
   "cell_type": "markdown",
   "metadata": {},
   "source": [
    "### Scipy"
   ]
  },
  {
   "cell_type": "code",
   "execution_count": null,
   "metadata": {
    "collapsed": true
   },
   "outputs": [],
   "source": []
  },
  {
   "cell_type": "markdown",
   "metadata": {},
   "source": [
    "### Matplotlib"
   ]
  },
  {
   "cell_type": "code",
   "execution_count": null,
   "metadata": {
    "collapsed": true
   },
   "outputs": [],
   "source": []
  },
  {
   "cell_type": "markdown",
   "metadata": {},
   "source": [
    "### Pandas"
   ]
  },
  {
   "cell_type": "code",
   "execution_count": null,
   "metadata": {
    "collapsed": true
   },
   "outputs": [],
   "source": []
  },
  {
   "cell_type": "markdown",
   "metadata": {},
   "source": [
    "### Cython"
   ]
  },
  {
   "cell_type": "code",
   "execution_count": null,
   "metadata": {
    "collapsed": true
   },
   "outputs": [],
   "source": []
  },
  {
   "cell_type": "markdown",
   "metadata": {},
   "source": [
    "### Line Profiler"
   ]
  },
  {
   "cell_type": "code",
   "execution_count": null,
   "metadata": {
    "collapsed": true
   },
   "outputs": [],
   "source": []
  },
  {
   "cell_type": "markdown",
   "metadata": {},
   "source": [
    "### Numba"
   ]
  },
  {
   "cell_type": "code",
   "execution_count": null,
   "metadata": {
    "collapsed": true
   },
   "outputs": [],
   "source": []
  },
  {
   "cell_type": "markdown",
   "metadata": {},
   "source": [
    "## 2- Pourquoi tenter d'accélérer du Python?\n",
    "\n",
    "Posons un problème court, soit l'estimation $pi$:\n",
    "\n",
    "$$\\huge{\\pi = \\arctan\\left(1\\right)}$$\n",
    "\n",
    "$$\\huge{\\pi \\approx 4 \\times \\left(\\frac{1}{1} - \\frac{1}{3} + \\frac{1}{5} - \\ldots\\right)}$$\n",
    "\n",
    "### Comment écririez-vous cet algorithme en Python?"
   ]
  },
  {
   "cell_type": "code",
   "execution_count": null,
   "metadata": {
    "collapsed": true
   },
   "outputs": [],
   "source": []
  },
  {
   "cell_type": "markdown",
   "metadata": {},
   "source": [
    "### Comment ferait-on pour mesurer la performance de notre algorithme?"
   ]
  },
  {
   "cell_type": "code",
   "execution_count": null,
   "metadata": {
    "collapsed": true
   },
   "outputs": [],
   "source": []
  },
  {
   "cell_type": "markdown",
   "metadata": {},
   "source": [
    "### Comment écrirait-on cet algorithme en C?"
   ]
  },
  {
   "cell_type": "code",
   "execution_count": null,
   "metadata": {
    "collapsed": true
   },
   "outputs": [],
   "source": [
    "# write file"
   ]
  },
  {
   "cell_type": "code",
   "execution_count": null,
   "metadata": {
    "collapsed": true
   },
   "outputs": [],
   "source": [
    "# compile"
   ]
  },
  {
   "cell_type": "markdown",
   "metadata": {},
   "source": [
    "### Comment appeller du C à partir de Python?"
   ]
  },
  {
   "cell_type": "code",
   "execution_count": null,
   "metadata": {
    "collapsed": true
   },
   "outputs": [],
   "source": []
  },
  {
   "cell_type": "code",
   "execution_count": null,
   "metadata": {
    "collapsed": true
   },
   "outputs": [],
   "source": [
    "# bench"
   ]
  },
  {
   "cell_type": "markdown",
   "metadata": {},
   "source": [
    "### Analyse de données avec Timeit"
   ]
  },
  {
   "cell_type": "code",
   "execution_count": null,
   "metadata": {
    "collapsed": true
   },
   "outputs": [],
   "source": []
  },
  {
   "cell_type": "markdown",
   "metadata": {},
   "source": [
    "## 3- Vectorisation avec Numpy\n",
    "\n",
    "$$\\huge{\\sum_{i=0}^N \\frac{i}{10}}$$"
   ]
  },
  {
   "cell_type": "code",
   "execution_count": null,
   "metadata": {
    "collapsed": true
   },
   "outputs": [],
   "source": []
  },
  {
   "cell_type": "markdown",
   "metadata": {},
   "source": [
    "### Utilisation de  Numpy\n",
    "#### Exercice 1\n",
    "\n",
    "Utiliser la function `arange` du module numpy pour accélérer l'algorithme d'approximation de Pi."
   ]
  },
  {
   "cell_type": "code",
   "execution_count": null,
   "metadata": {
    "collapsed": true
   },
   "outputs": [],
   "source": []
  },
  {
   "cell_type": "markdown",
   "metadata": {},
   "source": [
    "#### Exercice 2\n",
    "\n",
    "- Exécuter votre fonction et confirmer que le résultat est bon\n",
    "- Mesurer la performance de votre fonction et conserver les résultats."
   ]
  },
  {
   "cell_type": "code",
   "execution_count": null,
   "metadata": {
    "collapsed": true
   },
   "outputs": [],
   "source": []
  },
  {
   "cell_type": "markdown",
   "metadata": {},
   "source": [
    "## 4- Trouver les goulots d'étranglement"
   ]
  },
  {
   "cell_type": "code",
   "execution_count": null,
   "metadata": {
    "collapsed": true
   },
   "outputs": [],
   "source": [
    "#import\n",
    "\n",
    "def gen_data(n):\n",
    "    pass\n",
    "\n",
    "def sum_nexts(numbers):\n",
    "    pass\n",
    "\n",
    "def main(n):\n",
    "    pass"
   ]
  },
  {
   "cell_type": "markdown",
   "metadata": {},
   "source": [
    "$$\\huge{\\text{sum}_i = \\sum_{a=i+1}^N \\text{number}_a}$$"
   ]
  },
  {
   "cell_type": "markdown",
   "metadata": {},
   "source": [
    "#### Exercice 3\n",
    "\n",
    "Mesurer la performance de la fonction à l'aide de la commande magique `%timeit`."
   ]
  },
  {
   "cell_type": "code",
   "execution_count": null,
   "metadata": {
    "collapsed": true
   },
   "outputs": [],
   "source": []
  },
  {
   "cell_type": "markdown",
   "metadata": {},
   "source": [
    "#### Profilage avec prun"
   ]
  },
  {
   "cell_type": "code",
   "execution_count": null,
   "metadata": {
    "collapsed": true
   },
   "outputs": [],
   "source": []
  },
  {
   "cell_type": "code",
   "execution_count": null,
   "metadata": {
    "collapsed": true
   },
   "outputs": [],
   "source": [
    "# prun sorted"
   ]
  },
  {
   "cell_type": "markdown",
   "metadata": {},
   "source": [
    "#### Obtenir plus de détails à l'aide du profilage par ligne"
   ]
  },
  {
   "cell_type": "code",
   "execution_count": null,
   "metadata": {
    "collapsed": true
   },
   "outputs": [],
   "source": []
  },
  {
   "cell_type": "code",
   "execution_count": null,
   "metadata": {
    "collapsed": true
   },
   "outputs": [],
   "source": []
  },
  {
   "cell_type": "markdown",
   "metadata": {},
   "source": [
    "#### Comparaison avec Numpy"
   ]
  },
  {
   "cell_type": "code",
   "execution_count": null,
   "metadata": {
    "collapsed": true
   },
   "outputs": [],
   "source": [
    "def gen_data_np(n):\n",
    "    pass\n",
    "\n",
    "def sum_nexts_np(numbers):\n",
    "    pass\n",
    "\n",
    "def main_np(n):\n",
    "    pass"
   ]
  },
  {
   "cell_type": "code",
   "execution_count": null,
   "metadata": {
    "collapsed": true
   },
   "outputs": [],
   "source": []
  },
  {
   "cell_type": "markdown",
   "metadata": {},
   "source": [
    "#### Du manger pour l'esprit\n",
    "\n",
    "- Qu'est-ce qui se produit avec la fonction `sum_nexts_np` lorsque le paramètre `numbers` n'est pas du type `numpy.array` ?\n",
    "- Comment éviter ce problème ?\n",
    "- Quelle est la complexité de cet algorithme ? \n",
    "- Peut-on faire mieux en pure Python ?"
   ]
  },
  {
   "cell_type": "code",
   "execution_count": null,
   "metadata": {
    "collapsed": true
   },
   "outputs": [],
   "source": []
  },
  {
   "cell_type": "markdown",
   "metadata": {},
   "source": [
    "#### Exercice 4: Davantage de traitement de données\n",
    "\n",
    "Use the line profiler, find hotspots and optimize the following function."
   ]
  },
  {
   "cell_type": "code",
   "execution_count": null,
   "metadata": {},
   "outputs": [],
   "source": [
    "def generate_data():\n",
    "    with open(\"inputs.dat\", \"w\") as fp:\n",
    "        for _ in range(5000):\n",
    "            for _ in range(5000):\n",
    "                fp.write(\"{0},\".format(random.random()))\n",
    "            fp.write(\"\\n\")\n",
    "\n",
    "def read_data():\n",
    "    data = []\n",
    "    fp = open(\"inputs.dat\", \"r\")\n",
    "\n",
    "    line = 1\n",
    "    while line:\n",
    "        line = fp.readline()\n",
    "        if line:\n",
    "            row = []\n",
    "            for elem in line.split(','):\n",
    "                elem = elem.strip()\n",
    "                if elem:\n",
    "                    row.append(float(elem))\n",
    "            data.append(row)\n",
    "        \n",
    "    fp.close()\n",
    "    return data\n",
    "\n",
    "def process_A(data):\n",
    "    \"\"\"\n",
    "    Return a new matrix of the same shape as data, with each original\n",
    "    element squared by it's transposition equivalent.\n",
    "\n",
    "    result[i][j] = data[i][j] ** data[j][i]\n",
    "    \"\"\"\n",
    "    result = []\n",
    "    for i in range(len(data)):\n",
    "        row = []\n",
    "        for j in range(len(data[i])):\n",
    "            row.append(data[i][j] ** data[j][i])\n",
    "        result.append(row)\n",
    "    return result\n",
    "\n",
    "def process_B(m1, m2):\n",
    "    \"\"\"\n",
    "    Return the sum of the difference between each corresponding\n",
    "    elements of two square matrices.\n",
    "\n",
    "    diff = (m2[0][0] - m1[0][0]) + (m2[0][1] - m1[0][1]) + ...\n",
    "    \"\"\"\n",
    "\n",
    "    diff = 0.\n",
    "    for i in range(len(m1)):\n",
    "        for j in range(len(m1[i])):\n",
    "            diff += m2[i][j] - m1[i][j]\n",
    "    return diff\n",
    "\n",
    "def main():\n",
    "    generate_data()\n",
    "    data = read_data()\n",
    "    result_1 = process_A(data)\n",
    "    print(\"Difference is: \", process_B(data, result_1))"
   ]
  },
  {
   "cell_type": "code",
   "execution_count": null,
   "metadata": {
    "collapsed": true
   },
   "outputs": [],
   "source": []
  },
  {
   "cell_type": "markdown",
   "metadata": {},
   "source": [
    "## 5- Compiler du code Python"
   ]
  },
  {
   "cell_type": "code",
   "execution_count": null,
   "metadata": {
    "collapsed": true
   },
   "outputs": [],
   "source": []
  },
  {
   "cell_type": "markdown",
   "metadata": {},
   "source": [
    "## 6- Utiliser plusiuers coeurs de calcul"
   ]
  },
  {
   "cell_type": "code",
   "execution_count": null,
   "metadata": {
    "collapsed": true
   },
   "outputs": [],
   "source": []
  },
  {
   "cell_type": "markdown",
   "metadata": {},
   "source": [
    "## 7- Utiliser plus d'un ordinateur en parallèle"
   ]
  },
  {
   "cell_type": "code",
   "execution_count": null,
   "metadata": {
    "collapsed": true
   },
   "outputs": [],
   "source": []
  }
 ],
 "metadata": {
  "kernelspec": {
   "display_name": "Python 3",
   "language": "python",
   "name": "python3"
  },
  "language_info": {
   "codemirror_mode": {
    "name": "ipython",
    "version": 3
   },
   "file_extension": ".py",
   "mimetype": "text/x-python",
   "name": "python",
   "nbconvert_exporter": "python",
   "pygments_lexer": "ipython3",
   "version": "3.6.5"
  }
 },
 "nbformat": 4,
 "nbformat_minor": 1
}
